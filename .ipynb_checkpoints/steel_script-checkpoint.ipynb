{
 "cells": [
  {
   "cell_type": "code",
   "execution_count": 1,
   "metadata": {
    "id": "axsB0DJLz0Nc"
   },
   "outputs": [],
   "source": [
    "import numpy as np\n",
    "import seaborn as sns\n",
    "import matplotlib.pyplot as plt\n",
    "import pandas as pd\n",
    "import math"
   ]
  },
  {
   "cell_type": "code",
   "execution_count": 2,
   "metadata": {
    "id": "tz9mcHF02nie"
   },
   "outputs": [],
   "source": [
    "import warnings\n",
    "warnings.filterwarnings('ignore',category = DeprecationWarning)\n",
    "warnings.filterwarnings('ignore',category = UserWarning)\n",
    "warnings.filterwarnings('ignore',category = RuntimeWarning)\n",
    "warnings.filterwarnings('ignore',category = FutureWarning)"
   ]
  },
  {
   "cell_type": "code",
   "execution_count": 3,
   "metadata": {
    "id": "O9Otfe0V76FM"
   },
   "outputs": [],
   "source": [
    "pd.set_option('display.max_rows',100000)\n",
    "pd.set_option('display.max_columns',1000)"
   ]
  },
  {
   "cell_type": "code",
   "execution_count": 4,
   "metadata": {
    "id": "TjtE3vYU9sHt"
   },
   "outputs": [],
   "source": [
    "df = pd.read_excel('./UB.xlsx')"
   ]
  },
  {
   "cell_type": "code",
   "execution_count": 30,
   "metadata": {
    "colab": {
     "base_uri": "https://localhost:8080/"
    },
    "id": "wcYkLXYp-k1w",
    "outputId": "6524f4a7-faf7-4bf0-a965-4568beaebeb8",
    "scrolled": true
   },
   "outputs": [
    {
     "name": "stdout",
     "output_type": "stream",
     "text": [
      "['305x165x46', 46.1, 306.6, 165.7, 6.7, 11.8, 8.9, 265.2, 7.02, 39.6, 9899, 896.0, 13.0, 3.9, 646.0, 108.0, 720.0, 166.0, 0.891, 27.1, 0.195, 22.2, 58.7]\n"
     ]
    }
   ],
   "source": [
    "des = []\n",
    "for i in df['Designation']:\n",
    "    des.append(i)\n",
    "for j in des:\n",
    "    if j == '305x165x46':\n",
    "        user_section_properties = list(df.iloc[int(des.index('305x165x46'))])\n",
    "        print(user_section_properties)\n",
    "\n",
    "\n",
    "    \n",
    "        "
   ]
  },
  {
   "cell_type": "code",
   "execution_count": 31,
   "metadata": {
    "id": "IR-twz2y_Dqv"
   },
   "outputs": [],
   "source": [
    "grade = ['S275', 'S355', 'S450']\n",
    "py_S275 = [275,265,255,245,235]\n",
    "py_S355 = [355,345,335,325,315]\n",
    "py_S450 = [450,430,0,400,0]\n",
    "\n",
    "flange_thickness_1 = [16,40,63,80,100]\n",
    "flange_thickness_2 = [16,25,40,63]"
   ]
  },
  {
   "cell_type": "code",
   "execution_count": 32,
   "metadata": {
    "colab": {
     "base_uri": "https://localhost:8080/",
     "height": 204
    },
    "id": "x_9uapoxAaWR",
    "outputId": "fb78f11c-4691-4a4b-ee4f-2508c41300ef"
   },
   "outputs": [],
   "source": [
    "user_grade_selcetion = 'S450'\n",
    "def grade_selcetion():\n",
    "    for j in grade:\n",
    "        if j == user_grade_selcetion:\n",
    "            if user_grade_selcetion == grade[0]:\n",
    "                return py_S275,flange_thickness_1\n",
    "            elif user_grade_selcetion == grade[1]:\n",
    "                return py_S355,flange_thickness_1\n",
    "            else:\n",
    "                return py_S450,flange_thickness_2\n",
    "                \n",
    "                \n",
    "                "
   ]
  },
  {
   "cell_type": "code",
   "execution_count": 33,
   "metadata": {
    "colab": {
     "base_uri": "https://localhost:8080/"
    },
    "id": "3jyzxft4wp36",
    "outputId": "517579f0-85a6-410b-b5c8-515c9ac66ebd"
   },
   "outputs": [
    {
     "name": "stdout",
     "output_type": "stream",
     "text": [
      "([450, 430, 0, 400, 0], [16, 25, 40, 63])\n"
     ]
    }
   ],
   "source": [
    "grade_flange_thickness = grade_selcetion()\n",
    "print(grade_flange_thickness )\n",
    "    "
   ]
  },
  {
   "cell_type": "code",
   "execution_count": 34,
   "metadata": {
    "id": "5sKA-ug-tPtJ"
   },
   "outputs": [],
   "source": [
    "def py_value():\n",
    "    grade_flange_thickness = grade_selcetion()\n",
    "    flange_thickness = grade_flange_thickness[1]\n",
    "    grade = grade_flange_thickness[0]\n",
    "    control_thickness=[]\n",
    "    for i in flange_thickness:\n",
    "        if user_section_properties[5] <= i:\n",
    "            control_thickness.append(i)\n",
    "            thickness = control_thickness[0]\n",
    "            \n",
    "            if thickness <= flange_thickness[0]:\n",
    "                py = grade[0]\n",
    "            elif thickness <= flange_thickness[1]:\n",
    "                py = grade[1]\n",
    "            elif thickness <= flange_thickness[2]:\n",
    "                py = grade[2]\n",
    "            elif thickness <= flange_thickness[3]:\n",
    "                py = grade[3]\n",
    "            elif thickness <= flange_thickness[4]:\n",
    "                py = grade[4]\n",
    "            return py\n",
    "    "
   ]
  },
  {
   "cell_type": "code",
   "execution_count": 35,
   "metadata": {
    "colab": {
     "base_uri": "https://localhost:8080/"
    },
    "id": "FEmwb-kduu73",
    "outputId": "d433af06-3ab5-421e-da18-1755e89d1b9e"
   },
   "outputs": [
    {
     "name": "stdout",
     "output_type": "stream",
     "text": [
      "450\n",
      "0.7817359599705717\n"
     ]
    }
   ],
   "source": [
    "print(py_value())\n",
    "epsilon = math.sqrt(275/py_value())\n",
    "print(epsilon)"
   ]
  },
  {
   "cell_type": "code",
   "execution_count": 36,
   "metadata": {
    "colab": {
     "base_uri": "https://localhost:8080/",
     "height": 328
    },
    "id": "KDJaq-S3tgAn",
    "outputId": "34e5783b-fa69-472a-c499-eeb9d263a91e"
   },
   "outputs": [],
   "source": [
    "\n",
    "def classify_flange():\n",
    "    #flange classification\n",
    "    plastic = bool(user_section_properties[8] <= 8.5*epsilon)\n",
    "    compact = bool(user_section_properties[8] <= 9.5*epsilon)\n",
    "    semi_compact = bool(user_section_properties[8] <= 15*epsilon)\n",
    "        \n",
    "    return plastic,compact,semi_compact\n",
    "        \n",
    "    # web classification\n",
    "def classify_web():\n",
    "    plastic1 = bool(user_section_properties[9] <= 79*epsilon)\n",
    "    compact1 = bool(user_section_properties[9] <= 98*epsilon)\n",
    "    semi_compact1 = bool(user_section_properties[9] <= 120*epsilon)\n",
    "    \n",
    "    return plastic1,compact1,semi_compact1\n",
    "\n",
    "    \n",
    "        \n",
    "    \n"
   ]
  },
  {
   "cell_type": "code",
   "execution_count": 43,
   "metadata": {
    "id": "z9yBgTKpqsVW"
   },
   "outputs": [
    {
     "name": "stdout",
     "output_type": "stream",
     "text": [
      "(False, True, True)\n",
      "(True, True, True)\n"
     ]
    }
   ],
   "source": [
    "# Running checks on boolean output\n",
    "flange_bool = classify_flange()\n",
    "web_bool = classify_web()\n",
    "\n",
    "print(flange_bool)\n",
    "print(web_bool)"
   ]
  },
  {
   "cell_type": "code",
   "execution_count": 48,
   "metadata": {
    "id": "pSqJnWluWLP3"
   },
   "outputs": [
    {
     "name": "stdout",
     "output_type": "stream",
     "text": [
      "Compact Semi-Compact\n"
     ]
    }
   ],
   "source": [
    "section_classification = ['Plastic','Compact','Semi-Compact']\n",
    "return_classification = []\n",
    "initial_check = True\n",
    "for i in range(len(flange_bool)):\n",
    "    if flange_bool[i] == web_bool[i]:\n",
    "        sec_class = section_classification[i]\n",
    "        return_classification.append(sec_class)\n",
    "        if return_classification == section_classification:\n",
    "            print(\"Section is \"+ return_classification[0]) \n",
    "    elif flange_bool[i] < web_bool[i]:\n",
    "        \n",
    "        print (section_classification[1],section_classification[2])\n",
    "    elif flange_bool[2] > flange_bool[0] + flange_bool[1]:\n",
    "        print (\"Section is \"+ return_classification[2])\n",
    "        \n",
    "    \n",
    "\n",
    "\n",
    "    \n",
    "    # j in web_bool:\n",
    "        # false results, move to next check!\n",
    "        #if flange_bool[i] < initial_check:\n",
    "            # TODO: I need to iterate between two tuples of boolean values\n",
    "            # Each tuple has unique elements such that sucessive index is equivalent to Plastic, Compact and Semi-Compact Respectively."
   ]
  },
  {
   "cell_type": "markdown",
   "metadata": {
    "id": "HaJhZOtBrX2n"
   },
   "source": [
    "# **Splitting data into Training and Test splits**"
   ]
  },
  {
   "cell_type": "code",
   "execution_count": 17,
   "metadata": {
    "id": "Jmdv-mm3rBHa"
   },
   "outputs": [
    {
     "name": "stdout",
     "output_type": "stream",
     "text": [
      "False\n",
      "3\n"
     ]
    }
   ],
   "source": [
    "print(True < False)\n",
    "print(len(flange_bool))"
   ]
  },
  {
   "cell_type": "markdown",
   "metadata": {
    "id": "0dD7PH5Yr5bi"
   },
   "source": [
    "# **Scaling**"
   ]
  },
  {
   "cell_type": "markdown",
   "metadata": {
    "id": "tF3YblxbsBNy"
   },
   "source": [
    "# **Standardizing the data i.e. to rescale the features to have a mean of zero and standard deviation of 1.**"
   ]
  },
  {
   "cell_type": "code",
   "execution_count": 26,
   "metadata": {
    "id": "qqpiXtNrryNM"
   },
   "outputs": [],
   "source": [
    "from sklearn.preprocessing import StandardScaler\n",
    "sc = StandardScaler()\n",
    "x_train = sc.fit_transform(x_train)\n",
    "x_test = sc.transform(x_test)"
   ]
  },
  {
   "cell_type": "markdown",
   "metadata": {
    "id": "-51vk8DiuHdi"
   },
   "source": [
    "The scaler is fit on the training data and not on testing data. Since, we are training our model on rescaled Training data and the model performs well when the testing data follows same distribution. And if the scaler is fit on testing data again, this would result in testing data having a different mean and standard deviation. Resulting in loss of performance."
   ]
  },
  {
   "cell_type": "markdown",
   "metadata": {
    "id": "6aiXYi1FuVzR"
   },
   "source": [
    "# **Model Building**"
   ]
  },
  {
   "cell_type": "markdown",
   "metadata": {
    "id": "3FP3I4ycuc0l"
   },
   "source": [
    "Training Machine Learning Algorithms on the training data and making predictions on Test data."
   ]
  },
  {
   "cell_type": "markdown",
   "metadata": {
    "id": "p1i3DMtlw5tw"
   },
   "source": [
    "# **Linear Regression**"
   ]
  },
  {
   "cell_type": "markdown",
   "metadata": {
    "id": "00b0erCUxckE"
   },
   "source": [
    "# **The Algorithm assigns coefficients to each input feature to form a linear relation between input features and target variable, so as to minimize an objective function.**"
   ]
  },
  {
   "cell_type": "markdown",
   "metadata": {
    "id": "qNjIfjopysT_"
   },
   "source": [
    "# **The objective function used in this case is Mean Squared Error**"
   ]
  },
  {
   "cell_type": "markdown",
   "metadata": {
    "id": "_Xjog53-y1PS"
   },
   "source": [
    "There are three versions of Linear Regression\n",
    "\n",
    "1) Linear Regression - No regularisation\n",
    "\n",
    "2)Lasso Regression - L1 regularisation (Tries to push coefficients to zero)\n",
    "\n",
    "3)Ridge Regression - L2 regularisation (Tries to keep coefficients as low as possible)\n",
    "\n",
    "---\n",
    "\n"
   ]
  },
  {
   "cell_type": "markdown",
   "metadata": {
    "id": "yQ5FvQ9dzE6o"
   },
   "source": [
    "We will compare these three algorithms"
   ]
  },
  {
   "cell_type": "code",
   "execution_count": 27,
   "metadata": {
    "id": "gGuROJ5YuDDV"
   },
   "outputs": [],
   "source": [
    "lr = LinearRegression()\n",
    "# Linear Regression\n",
    "\n",
    "lasso = Lasso()\n",
    "# Lasso Regression\n",
    "\n",
    "ridge = Ridge()\n",
    "# Ridge Regression"
   ]
  },
  {
   "cell_type": "markdown",
   "metadata": {
    "id": "CkfzcUqM0rcE"
   },
   "source": [
    "# **fitting models on Training data**"
   ]
  },
  {
   "cell_type": "code",
   "execution_count": 28,
   "metadata": {
    "colab": {
     "base_uri": "https://localhost:8080/"
    },
    "id": "4Pig1g7r0mtl",
    "outputId": "2e87b65e-88f9-44da-a377-d86be93d4572"
   },
   "outputs": [
    {
     "data": {
      "text/plain": [
       "LinearRegression(copy_X=True, fit_intercept=True, n_jobs=None, normalize=False)"
      ]
     },
     "execution_count": 28,
     "metadata": {
      "tags": []
     },
     "output_type": "execute_result"
    }
   ],
   "source": [
    "lr.fit(x_train, y_train)\n",
    "# fitting the linear regression model"
   ]
  },
  {
   "cell_type": "code",
   "execution_count": 29,
   "metadata": {
    "colab": {
     "base_uri": "https://localhost:8080/"
    },
    "id": "CtdVfqwM2SER",
    "outputId": "a219c3c9-e1c9-463f-a295-1986ee670599"
   },
   "outputs": [
    {
     "data": {
      "text/plain": [
       "Lasso(alpha=1.0, copy_X=True, fit_intercept=True, max_iter=1000,\n",
       "      normalize=False, positive=False, precompute=False, random_state=None,\n",
       "      selection='cyclic', tol=0.0001, warm_start=False)"
      ]
     },
     "execution_count": 29,
     "metadata": {
      "tags": []
     },
     "output_type": "execute_result"
    }
   ],
   "source": [
    "lasso.fit(x_train, y_train)\n",
    "# fitting lasso regression model"
   ]
  },
  {
   "cell_type": "code",
   "execution_count": 30,
   "metadata": {
    "colab": {
     "base_uri": "https://localhost:8080/"
    },
    "id": "nMgY_OcW2haI",
    "outputId": "6ef4d1b2-0b03-43c8-9718-a4246c0debed"
   },
   "outputs": [
    {
     "data": {
      "text/plain": [
       "Ridge(alpha=1.0, copy_X=True, fit_intercept=True, max_iter=None,\n",
       "      normalize=False, random_state=None, solver='auto', tol=0.001)"
      ]
     },
     "execution_count": 30,
     "metadata": {
      "tags": []
     },
     "output_type": "execute_result"
    }
   ],
   "source": [
    "ridge.fit(x_train, y_train)\n",
    "# fitting the ridge regression model"
   ]
  },
  {
   "cell_type": "markdown",
   "metadata": {
    "id": "8eylaCSm3Uh1"
   },
   "source": [
    "# **Making predictions on Test data**"
   ]
  },
  {
   "cell_type": "code",
   "execution_count": 31,
   "metadata": {
    "id": "fvAb077R3GFi"
   },
   "outputs": [],
   "source": [
    "y_pred_lr = lr.predict(x_test)\n",
    "# predicting the test with linear regression model"
   ]
  },
  {
   "cell_type": "code",
   "execution_count": 32,
   "metadata": {
    "id": "9xIznpN_3nXU"
   },
   "outputs": [],
   "source": [
    "y_pred_lasso = lasso.predict(x_test)\n",
    "# predicting the test with lasso regression model"
   ]
  },
  {
   "cell_type": "code",
   "execution_count": 33,
   "metadata": {
    "id": "PE8avZLg41Yc"
   },
   "outputs": [],
   "source": [
    "y_pred_ridge = ridge.predict(x_test)\n",
    "# predicting the test with ridge regression model"
   ]
  },
  {
   "cell_type": "markdown",
   "metadata": {
    "id": "uaoS0cUB5bsf"
   },
   "source": [
    "# **Evaluation**"
   ]
  },
  {
   "cell_type": "markdown",
   "metadata": {
    "id": "hzIPrtkw5qNd"
   },
   "source": [
    "# **Comparing the Root Mean Squared Error (RMSE), Mean Squared Error (MSE), Mean Absolute Error(MAE) and R2 Score.**"
   ]
  },
  {
   "cell_type": "markdown",
   "metadata": {
    "id": "de26VeLk_1ar"
   },
   "source": [
    "# **linear regression results**"
   ]
  },
  {
   "cell_type": "code",
   "execution_count": 34,
   "metadata": {
    "colab": {
     "base_uri": "https://localhost:8080/"
    },
    "id": "ZTRkBzfF4-4Q",
    "outputId": "8cd5c193-3930-4f62-ec9f-65d38acf96d5"
   },
   "outputs": [
    {
     "name": "stdout",
     "output_type": "stream",
     "text": [
      "Model\t\t\t RMSE \t\t MSE \t\t MAE \t\t R2\n",
      "LinearRegression \t 10.29 \t\t 105.78 \t8.23 \t\t0.57\n"
     ]
    }
   ],
   "source": [
    "print(\"Model\\t\\t\\t RMSE \\t\\t MSE \\t\\t MAE \\t\\t R2\")\n",
    "print(\"\"\"LinearRegression \\t {:.2f} \\t\\t {:.2f} \\t{:.2f} \\t\\t{:.2f}\"\"\".format(\n",
    "            np.sqrt(mean_squared_error(y_test, y_pred_lr)),mean_squared_error(y_test, y_pred_lr),\n",
    "            mean_absolute_error(y_test, y_pred_lr), r2_score(y_test, y_pred_lr)))"
   ]
  },
  {
   "cell_type": "markdown",
   "metadata": {
    "id": "k0xPLdXIAuOn"
   },
   "source": [
    "# **lasso regression results**"
   ]
  },
  {
   "cell_type": "code",
   "execution_count": 35,
   "metadata": {
    "colab": {
     "base_uri": "https://localhost:8080/"
    },
    "id": "tT1rRWCj_I34",
    "outputId": "8f075521-b443-4e1b-8212-44f1dde3a596"
   },
   "outputs": [
    {
     "name": "stdout",
     "output_type": "stream",
     "text": [
      "Model\t\t\t RMSE \t\t MSE \t\t MAE \t\t R2\n",
      "LassoRegression \t 10.68 \t\t 114.13 \t8.66 \t\t0.54\n"
     ]
    }
   ],
   "source": [
    "print(\"Model\\t\\t\\t RMSE \\t\\t MSE \\t\\t MAE \\t\\t R2\")\n",
    "print(\"\"\"LassoRegression \\t {:.2f} \\t\\t {:.2f} \\t{:.2f} \\t\\t{:.2f}\"\"\".format(\n",
    "            np.sqrt(mean_squared_error(y_test, y_pred_lasso)),mean_squared_error(y_test, y_pred_lasso),\n",
    "            mean_absolute_error(y_test, y_pred_lasso), r2_score(y_test, y_pred_lasso)))"
   ]
  },
  {
   "cell_type": "markdown",
   "metadata": {
    "id": "jRkH5e3JD78A"
   },
   "source": [
    "# **Ridge Regression results**"
   ]
  },
  {
   "cell_type": "code",
   "execution_count": 36,
   "metadata": {
    "colab": {
     "base_uri": "https://localhost:8080/"
    },
    "id": "1vDkrt_pArUL",
    "outputId": "78895f65-f832-4299-b640-6cdc72ee9c22"
   },
   "outputs": [
    {
     "name": "stdout",
     "output_type": "stream",
     "text": [
      "Model\t\t\t RMSE \t\t MSE \t\t MAE \t\t R2\n",
      "RidgeRegression \t 10.29 \t\t 105.86 \t8.24 \t\t0.57\n"
     ]
    }
   ],
   "source": [
    "print(\"Model\\t\\t\\t RMSE \\t\\t MSE \\t\\t MAE \\t\\t R2\")\n",
    "print(\"\"\"RidgeRegression \\t {:.2f} \\t\\t {:.2f} \\t{:.2f} \\t\\t{:.2f}\"\"\".format(\n",
    "            np.sqrt(mean_squared_error(y_test, y_pred_ridge)),mean_squared_error(y_test, y_pred_ridge),\n",
    "            mean_absolute_error(y_test, y_pred_ridge), r2_score(y_test, y_pred_ridge)))"
   ]
  },
  {
   "cell_type": "code",
   "execution_count": 37,
   "metadata": {
    "colab": {
     "base_uri": "https://localhost:8080/"
    },
    "id": "ywQMf6XNB39u",
    "outputId": "1d210cff-2892-46d1-c488-eb2706c7f9e9"
   },
   "outputs": [
    {
     "name": "stdout",
     "output_type": "stream",
     "text": [
      "Model\t\t\t RMSE \t\t MSE \t\t MAE \t\t R2\n",
      "LinearRegression \t 10.29 \t\t 105.78 \t8.23 \t\t0.57\n",
      "LassoRegression \t 10.68 \t\t 114.13 \t8.66 \t\t0.54\n",
      "RidgeRegression \t 10.29 \t\t 105.86 \t8.24 \t\t0.57\n"
     ]
    }
   ],
   "source": [
    "\n",
    "print(\"Model\\t\\t\\t RMSE \\t\\t MSE \\t\\t MAE \\t\\t R2\")\n",
    "\n",
    "print(\"\"\"LinearRegression \\t {:.2f} \\t\\t {:.2f} \\t{:.2f} \\t\\t{:.2f}\"\"\".format(\n",
    "            np.sqrt(mean_squared_error(y_test, y_pred_lr)),mean_squared_error(y_test, y_pred_lr),\n",
    "            mean_absolute_error(y_test, y_pred_lr), r2_score(y_test, y_pred_lr)))\n",
    "\n",
    "print(\"\"\"LassoRegression \\t {:.2f} \\t\\t {:.2f} \\t{:.2f} \\t\\t{:.2f}\"\"\".format(\n",
    "            np.sqrt(mean_squared_error(y_test, y_pred_lasso)),mean_squared_error(y_test, y_pred_lasso),\n",
    "            mean_absolute_error(y_test, y_pred_lasso), r2_score(y_test, y_pred_lasso)))\n",
    "\n",
    "print(\"\"\"RidgeRegression \\t {:.2f} \\t\\t {:.2f} \\t{:.2f} \\t\\t{:.2f}\"\"\".format(\n",
    "            np.sqrt(mean_squared_error(y_test, y_pred_ridge)),mean_squared_error(y_test, y_pred_ridge),\n",
    "            mean_absolute_error(y_test, y_pred_ridge), r2_score(y_test, y_pred_ridge)))\n",
    "\n"
   ]
  },
  {
   "cell_type": "markdown",
   "metadata": {
    "id": "9wd2bhMlEcW_"
   },
   "source": [
    "# **The performance seem to be similar with all the three methods.**"
   ]
  },
  {
   "cell_type": "markdown",
   "metadata": {
    "id": "td7oZgbLnvTq"
   },
   "source": [
    "# **Plotting the coefficients**"
   ]
  },
  {
   "cell_type": "code",
   "execution_count": 46,
   "metadata": {
    "colab": {
     "base_uri": "https://localhost:8080/",
     "height": 513
    },
    "id": "Tya5WaBZEUju",
    "outputId": "7309e06d-388c-4026-89d1-09366852c93f"
   },
   "outputs": [
    {
     "data": {
      "image/png": "[encoded data removed]",
      "text/plain": [
       "<Figure size 720x504 with 1 Axes>"
      ]
     },
     "metadata": {
      "needs_background": "light",
      "tags": []
     },
     "output_type": "display_data"
    }
   ],
   "source": [
    "coeff_lr = lr.coef_\n",
    "#linear regression coefficients\n",
    "coeff_lasso = lasso.coef_\n",
    "#lasso regression coefficients\n",
    "coeff_ridge = ridge.coef_\n",
    "#ridge regression coefficients\n",
    "\n",
    "labels = req_col_names[:-1]\n",
    "\n",
    "x = np.arange(len(labels))\n",
    "width = 0.3\n",
    "\n",
    "fig,ax = plt.subplots(figsize = (10,7))\n",
    "rects1 = ax.bar(x - 2*(width/2), coeff_lr, width, label = 'lr')\n",
    "rects2 = ax.bar(x, coeff_lasso, width, label = 'lasso')\n",
    "rects3 = ax.bar(x + 2*(width/2), coeff_ridge, width, label = 'ridge')\n",
    "\n",
    "ax.set_ylabel('coefficient')\n",
    "ax.set_xlabel('features')\n",
    "ax.set_title('feature coefficients')\n",
    "ax.set_xticks(x)\n",
    "ax.set_xticklabels(labels,rotation = 45)\n",
    "ax.legend()\n",
    "\n",
    "def autolabel(rects):\n",
    "  \"\"\"Attach a text label above each bar in *rects*, displaying its height.\"\"\"\n",
    "  for rect in rects:\n",
    "    height = rect.get_height()\n",
    "    ax.annotate('{:.2f}'.format(height), xy = (rect.get_x() + rect.get_width() / 2, height), \n",
    "                 xytext = (0, 3), textcoords = 'offset points', ha = 'center', va = 'bottom')\n",
    "\n",
    "autolabel(rects1)\n",
    "autolabel(rects2)\n",
    "autolabel(rects3)\n",
    "\n",
    "fig.tight_layout()\n",
    "plt.show()"
   ]
  },
  {
   "cell_type": "markdown",
   "metadata": {
    "id": "ng-SFpOVz_vs"
   },
   "source": [
    "# **Lasso Regression, reduces the complexity of the model by keeping the coefficients as low as possible.**"
   ]
  },
  {
   "cell_type": "markdown",
   "metadata": {
    "id": "jmGb0tir0Dku"
   },
   "source": [
    "# **Coefficients with Linear and Ridge are almost same.**"
   ]
  },
  {
   "cell_type": "markdown",
   "metadata": {
    "id": "CpeLDbEO0e6s"
   },
   "source": [
    "# **Plotting Predictions**"
   ]
  },
  {
   "cell_type": "code",
   "execution_count": 49,
   "metadata": {
    "colab": {
     "base_uri": "https://localhost:8080/",
     "height": 294
    },
    "id": "nAbpfzTLyNgl",
    "outputId": "193cbce0-f5c1-47d3-91ce-d2b889ac12a4"
   },
   "outputs": [
    {
     "data": {
      "image/png": "[encoded data removed]",
      "text/plain": [
       "<Figure size 864x288 with 3 Axes>"
      ]
     },
     "metadata": {
      "needs_background": "light",
      "tags": []
     },
     "output_type": "display_data"
    }
   ],
   "source": [
    "fig, (ax1, ax2, ax3) = plt.subplots(1,3, figsize = (12, 4))\n",
    "\n",
    "ax1.scatter(y_pred_lr, y_test, s=20)\n",
    "ax1.plot([y_test.min(), y_test.max()], [y_test.min(), y_test.max()], 'k--', lw = 3)\n",
    "ax1.set_xlabel('True')\n",
    "ax1.set_ylabel('predicted')\n",
    "ax1.set_title('Linear regression')\n",
    "\n",
    "ax2.scatter(y_pred_lasso, y_test, s=20)\n",
    "ax2.plot([y_test.min(), y_test.max()], [y_test.min(), y_test.max()], 'k--', lw = 3)\n",
    "ax2.set_xlabel('True')\n",
    "ax2.set_ylabel('predicted')\n",
    "ax2.set_title('lasso regression')\n",
    "\n",
    "\n",
    "ax3.scatter(y_pred_ridge, y_test, s=20)\n",
    "ax3.plot([y_test.min(), y_test.max()], [y_test.min(), y_test.max()], 'k--', lw = 3)\n",
    "ax3.set_xlabel('True')\n",
    "ax3.set_ylabel('predicted')\n",
    "ax3.set_title('Ridge regression')\n",
    "\n",
    "fig.suptitle('True vs predicted')\n",
    "\n",
    "fig.tight_layout(rect=[0, 0.03, 1, 0.95])\n",
    "\n",
    "\n"
   ]
  },
  {
   "cell_type": "markdown",
   "metadata": {
    "id": "0hn0QFQUGupa"
   },
   "source": [
    "# **Looking at the graphs between predicted and true values of the target variable, we can conclude that Linear and Ridge Regression perform well as the predictions are closer to the actual values.**"
   ]
  },
  {
   "cell_type": "markdown",
   "metadata": {
    "id": "OgP19WO3G4Lg"
   },
   "source": [
    "# **While Lasso Regression reduces the complexity at the cost of loosing performance in this case. (The closer the points are to the black line, the less the error is.)**"
   ]
  },
  {
   "cell_type": "code",
   "execution_count": null,
   "metadata": {
    "id": "BAsvEp_X-jSv"
   },
   "outputs": [],
   "source": []
  }
 ],
 "metadata": {
  "accelerator": "GPU",
  "colab": {
   "authorship_tag": "ABX9TyPM4gQAwjxRerdRwNhDIyLQ",
   "include_colab_link": true,
   "name": "CONCRETE STRENGTH PREDICTION.ipynb",
   "provenance": []
  },
  "kernelspec": {
   "display_name": "Python 3 (ipykernel)",
   "language": "python",
   "name": "python3"
  },
  "language_info": {
   "codemirror_mode": {
    "name": "ipython",
    "version": 3
   },
   "file_extension": ".py",
   "mimetype": "text/x-python",
   "name": "python",
   "nbconvert_exporter": "python",
   "pygments_lexer": "ipython3",
   "version": "3.9.13"
  }
 },
 "nbformat": 4,
 "nbformat_minor": 4
}
